{
 "cells": [
  {
   "cell_type": "markdown",
   "id": "620b9fdf",
   "metadata": {},
   "source": [
    "Pre-requisites:\n",
    "1. Python 3.7\n",
    "2. ffmpeg\n",
    "3. Libraries: os and speech_recognition"
   ]
  },
  {
   "cell_type": "markdown",
   "id": "09c67cb3",
   "metadata": {},
   "source": [
    "I am using ffmpeg to convert the video file to audio. First, I will convert this to mp3 format and then will transform it to the wav format, as wav format allows you to extract better features.\n",
    "\n",
    "Below are the commands for the conversion process.\n",
    "* ffmpeg -i filename.mp4 filename.mp3”\n",
    "* ffmpeg -i filename.mp3 filename.wav”"
   ]
  },
  {
   "cell_type": "code",
   "execution_count": 1,
   "id": "909f23ea",
   "metadata": {},
   "outputs": [],
   "source": [
    "import os\n",
    "import speech_recognition as sr"
   ]
  },
  {
   "cell_type": "code",
   "execution_count": 2,
   "id": "7d646d3c",
   "metadata": {},
   "outputs": [
    {
     "data": {
      "text/plain": [
       "0"
      ]
     },
     "execution_count": 2,
     "metadata": {},
     "output_type": "execute_result"
    }
   ],
   "source": [
    "os.system(\"ffmpeg -i emma_speech.mp4 emma_speech.mp3\")\n",
    "os.system(\"ffmpeg -i emma_speech.mp3 emma_speech.wav\")"
   ]
  },
  {
   "cell_type": "markdown",
   "id": "dcd335a8",
   "metadata": {},
   "source": [
    "# For Small Files"
   ]
  },
  {
   "cell_type": "code",
   "execution_count": 3,
   "id": "672b89e4",
   "metadata": {
    "scrolled": true
   },
   "outputs": [
    {
     "name": "stdout",
     "output_type": "stream",
     "text": [
      "I was appointed six months ago and I have realised the fighting for women's rights has to often become synonymous with man heating if there is one thing I know it is that this has to stop for the record feminism by definition is the belief that men and women should have equal rights and opportunities is the theory of the classical economics and social policy of the success I saw this question answer by something is a long time ago when I was a kid I was confused sinkhole foresee because I wanted to write the place the width on preparing for the 14 to 20 actualized was an element of the media 12 15 my girlfriend's sources of finance develop its two teams because they don't want to pay monthly 18 18 Mai Mela friends were unable\n"
     ]
    }
   ],
   "source": [
    "r = sr.Recognizer()\n",
    "# open the file\n",
    "with sr.AudioFile(\"emma_speech.wav\") as source:\n",
    "    # listen for the data (load audio to memory)\n",
    "    audio_data = r.record(source, 100)\n",
    "    # recognize (convert from speech to text)\n",
    "    text = r.recognize_google(audio_data)\n",
    "    print(text)"
   ]
  },
  {
   "cell_type": "markdown",
   "id": "7b5aa35c",
   "metadata": {},
   "source": [
    "# For Large Files"
   ]
  },
  {
   "cell_type": "code",
   "execution_count": 4,
   "id": "48d47adb",
   "metadata": {},
   "outputs": [
    {
     "name": "stdout",
     "output_type": "stream",
     "text": [
      "Requirement already satisfied: pydub in /home/ubuntu/anaconda3/envs/VideoTranscripter/lib/python3.7/site-packages (0.25.1)\r\n"
     ]
    }
   ],
   "source": [
    "!pip install pydub"
   ]
  },
  {
   "cell_type": "code",
   "execution_count": 5,
   "id": "b55e56c2",
   "metadata": {},
   "outputs": [],
   "source": [
    "# importing libraries \n",
    "import speech_recognition as sr \n",
    "import os \n",
    "from pydub import AudioSegment\n",
    "from pydub.silence import split_on_silence"
   ]
  },
  {
   "cell_type": "code",
   "execution_count": 6,
   "id": "b68b948c",
   "metadata": {},
   "outputs": [],
   "source": [
    "# create a speech recognition object\n",
    "r = sr.Recognizer()"
   ]
  },
  {
   "cell_type": "code",
   "execution_count": 17,
   "id": "ca240f89",
   "metadata": {},
   "outputs": [],
   "source": [
    "# a function that splits the audio file into chunks\n",
    "# and applies speech recognition\n",
    "def get_large_audio_transcription(path):\n",
    "    \"\"\"\n",
    "    Splitting the large audio file into chunks\n",
    "    and apply speech recognition on each of these chunks\n",
    "    \"\"\"\n",
    "    # open the audio file using pydub\n",
    "    sound = AudioSegment.from_wav(path)  \n",
    "    # split audio sound where silence is 700 miliseconds or more and get chunks\n",
    "    chunks = split_on_silence(sound,\n",
    "        # experiment with this value for your target audio file\n",
    "        min_silence_len = 700,\n",
    "        # adjust this per requirement\n",
    "        silence_thresh = sound.dBFS-16,\n",
    "        # keep the silence for 1 second, adjustable as well\n",
    "        keep_silence=1,\n",
    "    )\n",
    "    folder_name = \"audio-chunks\"\n",
    "    # create a directory to store the audio chunks\n",
    "    if not os.path.isdir(folder_name):\n",
    "        os.mkdir(folder_name)\n",
    "    whole_text = \"\"\n",
    "    # process each chunk \n",
    "    for i, audio_chunk in enumerate(chunks, start=1):\n",
    "        # export audio chunk and save it in\n",
    "        # the `folder_name` directory.\n",
    "        chunk_filename = os.path.join(folder_name, f\"chunk{i}.wav\")\n",
    "        audio_chunk.export(chunk_filename, format=\"wav\")\n",
    "        # recognize the chunk\n",
    "        with sr.AudioFile(chunk_filename) as source:\n",
    "            audio_listened = r.record(source)\n",
    "            # try converting it to text\n",
    "            try:\n",
    "                text = r.recognize_google(audio_listened)\n",
    "            except sr.UnknownValueError as e:\n",
    "                print(\"Error:\", str(e))\n",
    "            else:\n",
    "                text = f\"{text.capitalize()}. \"\n",
    "                print(chunk_filename, \":\", text)\n",
    "                whole_text += text\n",
    "    # return the text for all chunks detected\n",
    "    return whole_text"
   ]
  },
  {
   "cell_type": "code",
   "execution_count": 18,
   "id": "4ff96999",
   "metadata": {},
   "outputs": [
    {
     "name": "stdout",
     "output_type": "stream",
     "text": [
      "Error: \n",
      "audio-chunks/chunk2.wav : I was appointed six months. \n",
      "audio-chunks/chunk3.wav : Anmol spice. \n",
      "audio-chunks/chunk4.wav : No i have a lie. \n",
      "audio-chunks/chunk5.wav : Icing sugar means. \n",
      "audio-chunks/chunk6.wav : Often becomes not. \n",
      "Error: \n",
      "audio-chunks/chunk8.wav : Pawan singh. \n",
      "audio-chunks/chunk9.wav : This has to stop for the record feminism by definition is the belief that men and women should have equal rights and opportunities it is the siri. \n",
      "Error: \n",
      "audio-chunks/chunk11.wav : Economic and social policy of the success of questioning changed by something is a long time. \n",
      "Error: \n",
      "audio-chunks/chunk13.wav : I was increased sinkhole possibly because i wanted to write the place the person from 14 to 20 actualized was an element of the media 15 my girlfriends sources of finance the beloved sports teams because they don't want you ok masale 118 my male friends were unable to express my feelings i decided that i was a feminist and the scenes on complicated to me the my recent research has shown me feminism has become an unpopular world women or choosing not to identify as feminist i am among the ranks even in his expressions are seen as too strong to aggressive isolating and and him. \n",
      "audio-chunks/chunk14.wav : Uncharted reason why has the word become such an uncomfortable one i am from and i think it is right that i am paid the same as my melt and pour i think it is right but i should be able to make decisions about my body i think it is right abdomen pain for girls on my behalf in the policies and decisions that affect my life i think it is right socially i am a4 with the same respect as men only i can say that there is no 1 country in the world we live in and expect to see these rights country in the world can you say that they have achieved gender equality. \n"
     ]
    },
    {
     "data": {
      "text/plain": [
       "\"I was appointed six months. Anmol spice. No i have a lie. Icing sugar means. Often becomes not. Pawan singh. This has to stop for the record feminism by definition is the belief that men and women should have equal rights and opportunities it is the siri. Economic and social policy of the success of questioning changed by something is a long time. I was increased sinkhole possibly because i wanted to write the place the person from 14 to 20 actualized was an element of the media 15 my girlfriends sources of finance the beloved sports teams because they don't want you ok masale 118 my male friends were unable to express my feelings i decided that i was a feminist and the scenes on complicated to me the my recent research has shown me feminism has become an unpopular world women or choosing not to identify as feminist i am among the ranks even in his expressions are seen as too strong to aggressive isolating and and him. Uncharted reason why has the word become such an uncomfortable one i am from and i think it is right that i am paid the same as my melt and pour i think it is right but i should be able to make decisions about my body i think it is right abdomen pain for girls on my behalf in the policies and decisions that affect my life i think it is right socially i am a4 with the same respect as men only i can say that there is no 1 country in the world we live in and expect to see these rights country in the world can you say that they have achieved gender equality. \""
      ]
     },
     "execution_count": 18,
     "metadata": {},
     "output_type": "execute_result"
    }
   ],
   "source": [
    "get_large_audio_transcription(\"emma_speech.wav\")"
   ]
  }
 ],
 "metadata": {
  "kernelspec": {
   "display_name": "Python 3",
   "language": "python",
   "name": "python3"
  },
  "language_info": {
   "codemirror_mode": {
    "name": "ipython",
    "version": 3
   },
   "file_extension": ".py",
   "mimetype": "text/x-python",
   "name": "python",
   "nbconvert_exporter": "python",
   "pygments_lexer": "ipython3",
   "version": "3.7.10"
  }
 },
 "nbformat": 4,
 "nbformat_minor": 5
}
